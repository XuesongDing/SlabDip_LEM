{
 "cells": [
  {
   "cell_type": "code",
   "execution_count": null,
   "metadata": {},
   "outputs": [],
   "source": [
    "import os\n",
    "import re\n",
    "import rdp\n",
    "import h5py\n",
    "import numpy as np\n",
    "import cmocean as cmo\n",
    "import matplotlib as mpl\n",
    "from matplotlib import mlab, cm\n",
    "import matplotlib.mlab as ml\n",
    "import matplotlib.pyplot as plt\n",
    "import matplotlib.colors as colors\n",
    "from scipy.interpolate import griddata\n",
    "import scipy.ndimage.filters as filters\n",
    "from scipy.interpolate import RectBivariateSpline\n",
    "from scipy.ndimage.filters import gaussian_filter\n",
    "from matplotlib.colors import ListedColormap, BoundaryNorm\n",
    "\n",
    "# Import the python file (.py) which contains all defined functions\n",
    "import stratalArchitecture as strata\n",
    "\n",
    "# Display plots in SVG format\n",
    "%config InlineBackend.figure_format = 'svg'\n",
    "\n",
    "# Display plots in cells            \n",
    "%matplotlib inline"
   ]
  },
  {
   "cell_type": "code",
   "execution_count": null,
   "metadata": {},
   "outputs": [],
   "source": [
    "import plotly\n",
    "from plotly import tools\n",
    "import plotly.graph_objs as go\n",
    "from plotly.graph_objs import *\n",
    "plotly.offline.init_notebook_mode()\n",
    "\n",
    "import warnings\n",
    "warnings.simplefilter(action = \"ignore\", category = FutureWarning)"
   ]
  },
  {
   "cell_type": "code",
   "execution_count": null,
   "metadata": {},
   "outputs": [],
   "source": [
    "# output folder path\n",
    "folder = '/live/share/SlabDip_LEM/control_case/h5/' \n",
    "strat = []\n",
    "strat = strata.stratalSection(folder, 1)\n",
    "# \n",
    "timestep = 30\n",
    "strat.loadStratigraphy(timestep-1)  # load strata files\n",
    "strat.loadTIN(timestep)  # load TIN files\n",
    "strat.nz"
   ]
  },
  {
   "cell_type": "code",
   "execution_count": null,
   "metadata": {},
   "outputs": [],
   "source": [
    "strat.plotSectionMap(title='Topography map', xlegend='Distance (m)', ylegend='Distance (m)', \n",
    "                     color=cmo.cm.delta, crange=[-2000,2000], cs=None, size=(6,6))"
   ]
  },
  {
   "cell_type": "code",
   "execution_count": null,
   "metadata": {},
   "outputs": [],
   "source": [
    "# Coordinates [x,y] of two points on the cross-section\n",
    "cs=np.zeros((2,2))\n",
    "cs[0,:] = [1000000,500000]  # point 1\n",
    "cs[1,:] = [2000000,500000]  # point 2\n",
    "\n",
    "# Interpolation parameters\n",
    "nbpts = 1001  \n",
    "gfilt = 1  \n",
    "\n",
    "# Show the location of the cross-section on the topography map\n",
    "strat.plotSectionMap(title='Topography map', xlegend='Distance (m)', ylegend='Distance (m)',\n",
    "                     color=cmo.cm.delta, colorcs='magenta', crange=[-2000,2000], cs=cs, size=(6,6))"
   ]
  },
  {
   "cell_type": "code",
   "execution_count": null,
   "metadata": {},
   "outputs": [],
   "source": [
    "# Build cross-section\n",
    "strat.buildSection(xo = cs[0,0], yo = cs[0,1], xm = cs[1,0], ym = cs[1,1], pts = nbpts, gfilter = gfilt)"
   ]
  },
  {
   "cell_type": "code",
   "execution_count": null,
   "metadata": {
    "scrolled": false
   },
   "outputs": [],
   "source": [
    "strata.viewSection(width = 900, height = 400, cs = strat, \n",
    "            dnlay = 1, rangeX=[0,1e6], rangeY=[-3000,2500],\n",
    "            linesize = 0.5, title='20degree_uplift5km_500km_flexure_kc5e7_dp09_flex1_30km_highkd_0622')"
   ]
  },
  {
   "cell_type": "markdown",
   "metadata": {},
   "source": [
    "## Plot the rate of erosion and deposition through time along a cross-section"
   ]
  },
  {
   "cell_type": "code",
   "execution_count": null,
   "metadata": {},
   "outputs": [],
   "source": [
    "def loadTIN(folder = None, timestep = 0, ncpus = 1):\n",
    "    #\n",
    "    for i in range(0, ncpus):\n",
    "        df = h5py.File('%s/tin.time%s.hdf5'%(folder, timestep), 'r')\n",
    "        coord = np.array((df['/coords']))\n",
    "        cumthick = np.array((df['/cumdiff']))\n",
    "        if i == 0:\n",
    "            x, y, z = np.hsplit(coord, 3)\n",
    "            cumth = cumthick\n",
    "\n",
    "    dx = x[1]-x[0]\n",
    "\n",
    "    nx = int((x.max() - x.min())/dx + 1)\n",
    "    ny = int((y.max() - y.min())/dx + 1)\n",
    "    \n",
    "    xi = np.linspace(x.min(), x.max(), nx)\n",
    "    yi = np.linspace(y.min(), y.max(), ny)\n",
    "    xi, yi = np.meshgrid(xi, yi)\n",
    "    zi = griddata((x[:,0],y[:,0]),z[:,0],(xi,yi),method='nearest')\n",
    "    cumTh = griddata((x[:,0],y[:,0]),cumth[:,0],(xi,yi),method='nearest')\n",
    "\n",
    "    return zi, cumTh"
   ]
  },
  {
   "cell_type": "code",
   "execution_count": null,
   "metadata": {},
   "outputs": [],
   "source": [
    "cumTh=[]\n",
    "zi=[]\n",
    "timeID = np.arange(0,30)\n",
    "# timeID = 30\n",
    "time = timeID*1.0\n",
    "folder = '/live/share/SlabDip_LEM/control_case/h5/'\n",
    "for i in timeID:\n",
    "    temp1, temp2 = loadTIN(folder = folder, timestep = i, ncpus = 1)\n",
    "    zi.append(temp1)\n",
    "    cumTh.append(temp2)"
   ]
  },
  {
   "cell_type": "code",
   "execution_count": null,
   "metadata": {},
   "outputs": [],
   "source": [
    "topoWE = []\n",
    "cumdiffWE = []\n",
    "cumdiffWE_rate = []\n",
    "# \n",
    "for i in range(len(timeID)):\n",
    "    topoWE.append(gaussian_filter(zi[i][200:300,551:951], sigma=3))\n",
    "    cumdiffWE.append(gaussian_filter(cumTh[i][200:300,551:951], sigma=3))\n",
    "# Average\n",
    "cumdiffWE_ave = np.zeros((len(topoWE),len(topoWE[0][0])))\n",
    "topoWE_ave = np.zeros((len(topoWE),len(topoWE[0][0])))\n",
    "for i in range(len(topoWE)):\n",
    "    for j in range(len(topoWE[0][0])):\n",
    "        cumdiffWE_ave[i][j] = sum(cumdiffWE[i][:,j])/100\n",
    "        topoWE_ave[i][j] = sum(topoWE[i][:,j])/100\n",
    "# Erosion rate\n",
    "for i in range(len(timeID)-1):\n",
    "    cumdiffWE_rate.append(cumdiffWE_ave[i+1]-cumdiffWE_ave[i])"
   ]
  },
  {
   "cell_type": "code",
   "execution_count": null,
   "metadata": {},
   "outputs": [],
   "source": [
    "import matplotlib.colors as mcolors\n",
    "\n",
    "fig = plt.figure(figsize = (7,3))\n",
    "plt.rc(\"font\", size=11)\n",
    "# \n",
    "ax = fig.add_axes([0.11, 0.16, 0.87, 0.77])\n",
    "\n",
    "x = time[1:]\n",
    "y = np.arange(0, topoWE[0].shape[1]*2, 2)\n",
    "X, Y = np.meshgrid(y, x)\n",
    "colors1 = plt.cm.pink_r(np.linspace(0., 1, 41))\n",
    "colors2 = plt.cm.cubehelix(np.linspace(0, 1, 215))\n",
    "\n",
    "# combine them and build a new colormap\n",
    "colors = np.vstack((colors1, colors2))\n",
    "mymap = mcolors.LinearSegmentedColormap.from_list('my_colormap', colors)\n",
    "\n",
    "norm1 = cm.colors.Normalize(vmax=500, vmin=0)\n",
    "levels1 = np.arange(0, 500, 5)\n",
    "cset1 = ax.contourf(X,Y,cumdiffWE_rate, levels1,\n",
    "                     cmap=cm.get_cmap(mymap, len(levels1) - 1), norm=norm1)\n",
    "plt.colorbar(cset1)\n",
    "cset2 = plt.contour(cset1, levels=cset1.levels[::20],\n",
    "                  colors='k',linewidths=(0.7,),\n",
    "                  origin = 'lower')\n",
    "\n",
    "# fig.savefig(\"EroDepRateMap.pdf\", dpi=400)"
   ]
  },
  {
   "cell_type": "code",
   "execution_count": null,
   "metadata": {},
   "outputs": [],
   "source": []
  },
  {
   "cell_type": "markdown",
   "metadata": {},
   "source": [
    "## Visualize stratal stacking pattern coloured by facies\n",
    "\n",
    "First we build paleo-depositional environment (facies) structure based on the paleo-water depth. For example ([reference](https://opentextbc.ca/geology/chapter/6-3-depositional-environments-and-sedimentary-basins/)),\n",
    "\n",
    "<img src=\"depo-envi.png\" alt=\"depositional environments\" width=\"800\" height=\"500\"/>"
   ]
  },
  {
   "cell_type": "code",
   "execution_count": null,
   "metadata": {},
   "outputs": [],
   "source": [
    "strat_secDep = np.array((strat.secDep))\n",
    "strat_secElev = np.array((strat.secElev))\n",
    "strat_secTh = np.array((strat.secTh))\n",
    "strat_nz = strat.nz"
   ]
  },
  {
   "cell_type": "code",
   "execution_count": null,
   "metadata": {},
   "outputs": [],
   "source": [
    "def buildEnviID_facies(secElev = None, secTh = None, nz = None, depthIDs = None):\n",
    "    envi = np.zeros((nz, len(depthIDs)+2))\n",
    "    \n",
    "    for i in range(0,nz):\n",
    "        onlapID = np.where(secElev[i] <= 300)[0]\n",
    "        if(len(onlapID)>0):\n",
    "            envi[i][0] = np.amin(onlapID) # onlap\n",
    "        downlapID = np.where((secTh[i]) >= 1.5)[0]\n",
    "        if(len(downlapID)>0):\n",
    "            envi[i][len(depthIDs)+1] = np.amax(downlapID)\n",
    "            \n",
    "        for j in range(len(depthIDs)):\n",
    "            rangeID = np.where((secElev[i]) <= depthIDs[j])[0]\n",
    "            if(len(rangeID)==0):\n",
    "                envi[i][j+1] = max(envi[i][len(depthIDs)+1],envi[i][j])\n",
    "            else:\n",
    "                envi[i][j+1] = np.amin(rangeID)\n",
    "    #\n",
    "    return envi"
   ]
  },
  {
   "cell_type": "code",
   "execution_count": null,
   "metadata": {},
   "outputs": [],
   "source": [
    "# Specify the range of water depth for the depositional environments, see the table above\n",
    "depthID = [0, -30, -100, -300, -500]\n",
    "# depthID = [0, -20, -50, -150, -300, -500]\n",
    "\n",
    "# Build an array of depositional environment ID (enviID)\n",
    "enviID = np.zeros((strat.nz-1, len(depthID)+2))\n",
    "enviID = buildEnviID_facies(secElev = strat_secElev, secTh = strat_secTh, nz = strat_nz-1, depthIDs = depthID)"
   ]
  },
  {
   "cell_type": "code",
   "execution_count": null,
   "metadata": {},
   "outputs": [],
   "source": [
    "# Plot stratal stacking pattern colored by paleo-depositional environments\n",
    "fig = plt.figure(figsize = (7,3))\n",
    "plt.rc(\"font\", size=11)\n",
    "# \n",
    "ax = fig.add_axes([0.13, 0.16, 0.82, 0.79])\n",
    "# p = 0\n",
    "# layID = []\n",
    "xi00 = np.array(strat.dist)/1000.  # change the unit to be be km\n",
    "colors = ['limegreen','darkkhaki','sandybrown','khaki','c','teal']\n",
    "# colors = ['khaki','mediumseagreen','skyblue','lightgray','darkkhaki','c','teal']\n",
    "for i in range(0,strat_nz-1,1):\n",
    "#     if i == strat_nz-1:\n",
    "#         i=strat_nz-1\n",
    "#     layID.append(i)\n",
    "    ax.plot(xi00,strat_secDep[i],'-',color='k',linewidth=0.1)\n",
    "#     if len(layID)>1:\n",
    "    for j in range(len(depthID)+1):\n",
    "        ID1=enviID[i][j]\n",
    "        ID2=enviID[i][j+1]\n",
    "        if (ID1<ID2):\n",
    "            for k in range(int(ID1),int(ID2)):\n",
    "                ax.fill_between([xi00[k],xi00[k+1]], [strat_secDep[i][k], strat_secDep[i][k+1]],\n",
    "                            max(strat_secDep[i+1]), color=colors[j])\n",
    "    if (max(strat_secDep[i+1]) <= max(strat_secDep[i])):\n",
    "        ax.fill_between(xi00, strat_secDep[i+1], max(strat_secDep[i]), color='white')\n",
    "    else:\n",
    "        ax.fill_between(xi00, strat_secDep[i+1], max(strat_secDep[i+1]), color='white')\n",
    "#     p=p+1\n",
    "#   \n",
    "strat_max = np.maximum(strat_secDep[strat_nz-1], 0)\n",
    "ax.fill_between(xi00, strat_secDep[strat_nz-1], strat_max, color='lightblue', alpha=0.5)\n",
    "ax.plot(xi00,strat_secDep[strat_nz-1],'-',color='k',linewidth=0.3)  # top line\n",
    "ax.plot(xi00,strat_secDep[0],'-',color='k',linewidth=0.5)  # bottom line\n",
    "ax.plot(xi00,strat_secDep[10],'-',color='k',linewidth=0.5)  \n",
    "ax.plot(xi00,strat_secDep[20],'-',color='k',linewidth=0.5)  \n",
    "ax.plot(xi00,strat_secDep[30],'-',color='k',linewidth=0.5)  \n",
    "ax.set_xlim([100, 900])\n",
    "ax.set_ylim([-2000, 500])\n",
    "ax.set_xlabel('Distance (km)',fontsize=11)\n",
    "ax.set_ylabel('Elevation (m)',fontsize=11)\n",
    "\n",
    "# Save the plot\n",
    "# fig.savefig(\"Strata.pdf\", dpi=300)\n",
    "plt.close(fig)"
   ]
  },
  {
   "cell_type": "markdown",
   "metadata": {},
   "source": [
    "## Calculate the proportion of each depositional facies"
   ]
  },
  {
   "cell_type": "code",
   "execution_count": null,
   "metadata": {},
   "outputs": [],
   "source": [
    "alluvial_plain = []\n",
    "shoreface = []\n",
    "distal_offshore = []\n",
    "upper_slope = []\n",
    "middle_slope = []\n",
    "abyssal = []\n",
    "for j in range(strat_nz-1):\n",
    "    alluvial_plain.append(sum(strat.secTh[j][int(enviID[j][0]):int(enviID[j][1])]))\n",
    "    shoreface.append(sum(strat.secTh[j][int(enviID[j][1]):int(enviID[j][2])]))\n",
    "    distal_offshore.append(sum(strat.secTh[j][int(enviID[j][2]):int(enviID[j][3])]))\n",
    "    upper_slope.append(sum(strat.secTh[j][int(enviID[j][3]):int(enviID[j][4])]))\n",
    "    middle_slope.append(sum(strat.secTh[j][int(enviID[j][4]):int(enviID[j][5])]))\n",
    "    abyssal.append(sum(strat.secTh[j][int(enviID[j][5]):int(enviID[j][6])]))"
   ]
  },
  {
   "cell_type": "code",
   "execution_count": null,
   "metadata": {},
   "outputs": [],
   "source": [
    "# Percentage of each facies\n",
    "alluvial_plain_perc = sum(alluvial_plain)/sum(sum(strat.secTh[:]))*100\n",
    "shoreface_perc = sum(shoreface)/sum(sum(strat.secTh[:]))*100\n",
    "distal_offshore_perc = sum(distal_offshore)/sum(sum(strat.secTh[:]))*100\n",
    "upper_slope_perc = sum(upper_slope)/sum(sum(strat.secTh[:]))*100\n",
    "middle_slope_perc = sum(middle_slope)/sum(sum(strat.secTh[:]))*100\n",
    "abyssal_perc = sum(abyssal)/sum(sum(strat.secTh[:]))*100\n",
    "\n",
    "facies_perc = np.array([alluvial_plain_perc, shoreface_perc, distal_offshore_perc, upper_slope_perc, \n",
    "                        middle_slope_perc, abyssal_perc])"
   ]
  },
  {
   "cell_type": "code",
   "execution_count": null,
   "metadata": {},
   "outputs": [],
   "source": [
    "fig = plt.figure(figsize = (6,3))\n",
    "plt.rc(\"font\", size=12)\n",
    "# \n",
    "ax = fig.add_axes([0.13, 0.15, 0.82, 0.75])\n",
    "facies = ['alluvial_plain', 'shoreface', 'distal_offshore', 'upper_slope', 'middle_slope', 'abyssal']\n",
    "bar = ax.bar(facies, facies_perc, width = 0.5, color=['limegreen','darkkhaki','sandybrown','khaki','c','teal'])\n",
    "# ax.set_ylim([0, 90])\n",
    "ax.set_xlabel('Depositional facies',fontsize=11)\n",
    "ax.set_ylabel('Percentage (%)',fontsize=12)\n",
    "ax.set_xticks('off')\n",
    "ax.set_xticklabels(facies, rotation=-15)\n",
    "ax.grid(color='lightgray', linestyle='-', linewidth=0.5)\n",
    "\n",
    "# Save the plot\n",
    "# fig.savefig(\"FaciesPerc.pdf\", dpi=300)"
   ]
  },
  {
   "cell_type": "markdown",
   "metadata": {},
   "source": [
    "## Build a Wheeler diagram\n",
    "\n",
    "Wheeler diagram (or chronostratigraphic chart) is a powerful tool to document unconformities between sequences, and to understand the evolution of sedimentary stacking patterns and their relationships to sea level. It displays the horizontal distribution of contemporaneous sedimentary layer sequences, as well as hiatuses in sedimentation."
   ]
  },
  {
   "cell_type": "code",
   "execution_count": null,
   "metadata": {},
   "outputs": [],
   "source": [
    "def buildEnviID_WD(secElev = None, secTh = None, nz = None, dist = None, depthID = None):\n",
    "    enviID = np.zeros((nz, len(dist)))\n",
    "    \n",
    "    # Build a 2D array of the depositional environment ID (enviID) \n",
    "    for j in range(nz):\n",
    "        for i in range(len(dist)):\n",
    "            if (secElev[j][i]) > (depthID[0]):\n",
    "                enviID[j][i] = 0\n",
    "            elif (secElev[j][i]) > (depthID[1]):\n",
    "                enviID[j][i] = 1\n",
    "            elif (secElev[j][i]) > (depthID[2]):\n",
    "                enviID[j][i] = 2\n",
    "            elif (secElev[j][i]) > (depthID[3]):\n",
    "                enviID[j][i] = 3\n",
    "            elif (secElev[j][i]) > (depthID[4]):\n",
    "                enviID[j][i] = 4\n",
    "            else:\n",
    "                enviID[j][i] = 5\n",
    "    \n",
    "    # Where the deposited thickness is less than 0.5 m, the enviID will be set to -1 (i.e. will be coloured in white).\n",
    "    # You can change the value of '0.5'.\n",
    "    for j in range(nz):\n",
    "        for i in range(len(dist)):\n",
    "            if (secTh[j][i]) <= 0.5:\n",
    "                enviID[j][i] = -1\n",
    "    \n",
    "    return enviID"
   ]
  },
  {
   "cell_type": "code",
   "execution_count": null,
   "metadata": {},
   "outputs": [],
   "source": [
    "# Define colors for depositional environments, with number of colors equals to len(depthID) + 2\n",
    "colorDepoenvi = ['white','limegreen','darkkhaki','sandybrown','khaki','c','teal'] \n",
    "# 'White' colors where either no deposition or deposited sediemnt thickness < 0.5 m.\n",
    "\n",
    "# Build an array of depositional environment ID (enviID_WD)\n",
    "enviID_WD = np.zeros((strat_nz, len(strat.dist)))\n",
    "enviID_WD = buildEnviID_WD(secElev = strat_secElev,secTh = strat_secTh,nz = strat_nz-1,dist = strat.dist,depthID = depthID)\n",
    "\n",
    "# Time structure of the model, corresponding to the Time structure in the input.xml file\n",
    "start_time = 0.  # the start time of the model run [a]\n",
    "disptime = 1000000.  # the layer interval of the strata module [a]\n",
    "end_time = start_time + disptime * timestep  # the time of the loaded output [a]\n",
    "layertime = np.linspace(start_time,end_time,strat_nz)  # time of the layers"
   ]
  },
  {
   "cell_type": "code",
   "execution_count": null,
   "metadata": {},
   "outputs": [],
   "source": [
    "# Plot Wheeler diagram\n",
    "fig = plt.figure(figsize = (7,3))\n",
    "plt.rc(\"font\", size=11)\n",
    "    \n",
    "ax = fig.add_axes([0.13, 0.16, 0.82, 0.79])\n",
    "# Define the meshgrid of the Wheeler diagram, in which X axis is distance along the cross-section and Y axis is time\n",
    "dist = strat.dist  \n",
    "Dist, Time = np.meshgrid(dist, layertime/1e6)\n",
    "\n",
    "cmap = ListedColormap(colorDepoenvi)\n",
    "boundaries = [-1, 6]\n",
    "levels=[-1.5,-0.5,0.5,1.5, 2.5, 3.5, 4.5, 5.5]\n",
    "# norm = colors.Normalize(boundaries, cmap.N)\n",
    "norm = cm.colors.Normalize(vmax=6, vmin=-1)\n",
    "ax.imshow(enviID_WD[:,:], interpolation='nearest', cmap=cmap, origin='lower', \n",
    "           extent=[dist.min()/1000, dist.max()/1000, (layertime/1e6).min(), (layertime/1e6).max()], \n",
    "           aspect='auto', vmax=5.5, vmin=-1.5)\n",
    "# plt.colorbar()\n",
    "\n",
    "# Plot the horizontal time lines with the same interval with the stratal stacking pattern\n",
    "for i in range(0,strat_nz,1): \n",
    "    ax.axhline(layertime[i]/1e6, color='lightgray', linewidth=0.1)\n",
    "\n",
    "ax.set_xlim([100,900])\n",
    "ax.set_ylim([0.,30])\n",
    "ax.set_xlabel('Distance (km)')\n",
    "ax.set_ylabel('Time (Myr)')\n",
    "# \n",
    "# fig.savefig(\"WheeDiag.pdf\", dpi=300)"
   ]
  }
 ],
 "metadata": {
  "anaconda-cloud": {},
  "kernelspec": {
   "display_name": "Python 3",
   "language": "python",
   "name": "python3"
  },
  "language_info": {
   "codemirror_mode": {
    "name": "ipython",
    "version": 3
   },
   "file_extension": ".py",
   "mimetype": "text/x-python",
   "name": "python",
   "nbconvert_exporter": "python",
   "pygments_lexer": "ipython3",
   "version": "3.5.3"
  }
 },
 "nbformat": 4,
 "nbformat_minor": 1
}
